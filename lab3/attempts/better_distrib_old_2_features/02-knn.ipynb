{
 "cells": [
  {
   "cell_type": "code",
   "execution_count": 1,
   "metadata": {},
   "outputs": [],
   "source": [
    "import pandas as pd\n",
    "from sklearn.neighbors import KNeighborsRegressor\n",
    "from sklearn.model_selection import train_test_split\n",
    "from sklearn.metrics import mean_absolute_percentage_error\n",
    "import numpy as np\n",
    "import math "
   ]
  },
  {
   "cell_type": "code",
   "execution_count": 2,
   "metadata": {},
   "outputs": [
    {
     "name": "stdout",
     "output_type": "stream",
     "text": [
      "MAPE: 0.051719578213506937\n"
     ]
    }
   ],
   "source": [
    "df = pd.read_csv('../../processed_data/00-train.csv')\n",
    "# df.columns\n",
    "columns = [\n",
    "  # 'user_id',\n",
    "  # 'org_id', \n",
    "  # 'rating', \n",
    "  # 'ts', \n",
    "  'user_city', \n",
    "  'org_city',\n",
    "  # 'average_bill', \n",
    "  'rating_org', # target\n",
    "  # 'rubrics', \n",
    "  'food_delivery', \n",
    "  'breakfast',\n",
    "  'takeaway', \n",
    "  'summer_terrace', \n",
    "  'wi_fi', \n",
    "  'business_lunch',\n",
    "  'payment_by_credit_card', \n",
    "  'coffee_to_go', \n",
    "  'closed_for_quarantine',\n",
    "  'online_takeaway', \n",
    "  'karaoke', \n",
    "  'special_menu', \n",
    "  'sports_broadcasts',\n",
    "  'food_court1', \n",
    "  'craft_beer', \n",
    "  'projector', \n",
    "  'gift_certificate',\n",
    "  'wheelchair_access', \n",
    "  'automatic_door', \n",
    "  'food_product_delivery',\n",
    "  'car_park', \n",
    "  'parking_disabled', \n",
    "  'toilet_for_disabled', \n",
    "  'promotions',\n",
    "  'cafe', \n",
    "  'minimum_order', \n",
    "  'free_delivery', \n",
    "  'self_service_kiosks',\n",
    "  'has_restaurant', \n",
    "  'air_conditioning', \n",
    "  'pets', \n",
    "  'elevator', \n",
    "  'has_bar', \n",
    "  'internet access', \n",
    "  'privilege_tickets', \n",
    "  'organic_food', \n",
    "  'vip_zone',\n",
    "  'hall_capacity', \n",
    "  'face_control',  \n",
    "  'show_program', \n",
    "  'music',\n",
    "  'chillout',\n",
    "  'dancefloor', \n",
    "  'dress_code', \n",
    "  'billiards', \n",
    "  'strip', \n",
    "  'elevator_wheelchair_accessible', \n",
    "  'ramp', \n",
    "  'around_the_clock_work1',\n",
    "  'pickup', \n",
    "  'farm_products', \n",
    "  'delivery', \n",
    "  'coffee_shop', \n",
    "  'call_button',\n",
    "  'wheelchair_accessible', \n",
    "  'table_games', \n",
    "  'vinotheque', \n",
    "  'cakes_for_different_occasions',\n",
    "  'accepted_credit_cards', \n",
    "  'kalyan', \n",
    "  'teahouse',\n",
    "  'bread_from_tandoor',\n",
    "  'handmade_goods', \n",
    "\n",
    "  'dateMM',\n",
    "  'bill500', \n",
    "  'bill1000',\n",
    "  'bill1500',\n",
    "  'bill2000',\n",
    "  'bill2500',\n",
    "  'bill3000',\n",
    "  'bill3500',\n",
    "  'bill4000',\n",
    "  'billExpensive', \n",
    "  # 'native_citizen', \n",
    "  # 'tourist', \n",
    "  'is_restraunt',\n",
    "  'is_caffe', \n",
    "  'is_other',\n",
    "  'resist_covid',\n",
    "  'for_adult',\n",
    "  \"rating_1\",\n",
    "  \"rating_2\",\n",
    "  \"rating_3\",\n",
    "  \"rating_4\",\n",
    "  \"rating_5\"\n",
    "]\n",
    "\n",
    "df1 = df[columns]\n",
    "df1 = pd.get_dummies(df1)\n",
    "df1.describe()\n",
    "\n",
    "for col in df1.columns.values:\n",
    "  if col.startswith('dateMM'):\n",
    "    df1[col] = df1[col] * 1000\n",
    "  if col in ['user_city_msk', 'user_city_spb', 'org_city_msk',\n",
    "       'org_city_spb']:\n",
    "    df1[col] = df1[col] * 100\n",
    "  if col.startswith('bill'):\n",
    "    df1[col] = df1[col] * 200\n",
    "  if col.startswith('rating_') and col != \"rating_org\":\n",
    "    df1[col] = df1[col] * 300\n",
    "  if (col.startswith('is_')):\n",
    "    df1[col] = df1[col] * 200\n",
    "  if col == 'resist_covid' or col == 'for_adult':\n",
    "    df1[col] = df1[col] * 50\n",
    "\n",
    "train, test = train_test_split(df1, test_size=0.5)\n",
    "target_column = 'rating_org'\n",
    "\n",
    "train_x, train_y = train.drop(target_column, axis=1), train[target_column]\n",
    "test_x, test_y = test.drop(target_column, axis=1), test[target_column]\n",
    "\n",
    "model = KNeighborsRegressor(n_neighbors=5, weights='distance')\n",
    "model.fit(train_x, train_y)\n",
    "\n",
    "predict = model.predict(test_x)\n",
    "print('MAPE:', mean_absolute_percentage_error(test_y, predict))"
   ]
  },
  {
   "cell_type": "code",
   "execution_count": 3,
   "metadata": {},
   "outputs": [
    {
     "data": {
      "text/plain": [
       "<matplotlib.legend.Legend at 0x7fe94dabffd0>"
      ]
     },
     "execution_count": 3,
     "metadata": {},
     "output_type": "execute_result"
    },
    {
     "data": {
      "image/png": "[encoded data removed]",
      "text/plain": [
       "<Figure size 640x480 with 1 Axes>"
      ]
     },
     "metadata": {},
     "output_type": "display_data"
    }
   ],
   "source": [
    "from matplotlib import pyplot as plt\n",
    "plt.hist(test.rating_org, label=\"test\",bins=50)\n",
    "tmp = predict\n",
    "plt.hist(tmp, label=\"predict\", bins=50)\n",
    "plt.legend()"
   ]
  },
  {
   "cell_type": "code",
   "execution_count": null,
   "metadata": {},
   "outputs": [],
   "source": []
  },
  {
   "cell_type": "code",
   "execution_count": null,
   "metadata": {},
   "outputs": [],
   "source": []
  },
  {
   "cell_type": "code",
   "execution_count": null,
   "metadata": {},
   "outputs": [],
   "source": []
  },
  {
   "cell_type": "code",
   "execution_count": null,
   "metadata": {},
   "outputs": [],
   "source": []
  },
  {
   "cell_type": "code",
   "execution_count": null,
   "metadata": {},
   "outputs": [],
   "source": []
  },
  {
   "cell_type": "code",
   "execution_count": null,
   "metadata": {},
   "outputs": [],
   "source": []
  },
  {
   "cell_type": "code",
   "execution_count": null,
   "metadata": {},
   "outputs": [],
   "source": []
  },
  {
   "cell_type": "code",
   "execution_count": null,
   "metadata": {},
   "outputs": [],
   "source": []
  },
  {
   "cell_type": "code",
   "execution_count": null,
   "metadata": {},
   "outputs": [],
   "source": []
  },
  {
   "cell_type": "code",
   "execution_count": null,
   "metadata": {},
   "outputs": [],
   "source": []
  }
 ],
 "metadata": {
  "kernelspec": {
   "display_name": "Python 3.8.10 64-bit",
   "language": "python",
   "name": "python3"
  },
  "language_info": {
   "codemirror_mode": {
    "name": "ipython",
    "version": 3
   },
   "file_extension": ".py",
   "mimetype": "text/x-python",
   "name": "python",
   "nbconvert_exporter": "python",
   "pygments_lexer": "ipython3",
   "version": "3.8.10"
  },
  "orig_nbformat": 4,
  "vscode": {
   "interpreter": {
    "hash": "e7370f93d1d0cde622a1f8e1c04877d8463912d04d973331ad4851f04de6915a"
   }
  }
 },
 "nbformat": 4,
 "nbformat_minor": 2
}
